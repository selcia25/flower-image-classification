{
 "cells": [
  {
   "cell_type": "code",
   "execution_count": 1,
   "metadata": {},
   "outputs": [],
   "source": [
    "from tensorflow.keras.models import Sequential\n",
    "from tensorflow.keras.layers import Conv2D, MaxPooling2D, Flatten, Dense\n",
    "from tensorflow.keras.preprocessing.image import ImageDataGenerator"
   ]
  },
  {
   "cell_type": "code",
   "execution_count": 2,
   "metadata": {},
   "outputs": [],
   "source": [
    "# Define your CNN architecture\n",
    "model = Sequential()\n",
    "model.add(Conv2D(32, (3, 3), activation='relu', input_shape=(224, 224, 3)))\n",
    "model.add(MaxPooling2D(2, 2))\n",
    "model.add(Conv2D(64, (3, 3), activation='relu'))\n",
    "model.add(MaxPooling2D(2, 2))\n",
    "model.add(Conv2D(128, (3, 3), activation='relu'))\n",
    "model.add(MaxPooling2D(2, 2))\n",
    "model.add(Flatten())\n",
    "model.add(Dense(128, activation='relu'))\n",
    "model.add(Dense(5, activation='softmax'))  # Assuming 5 classes"
   ]
  },
  {
   "cell_type": "code",
   "execution_count": 3,
   "metadata": {},
   "outputs": [],
   "source": [
    "# Compile the model\n",
    "model.compile(optimizer='adam', loss='categorical_crossentropy', metrics=['accuracy'])"
   ]
  },
  {
   "cell_type": "code",
   "execution_count": 4,
   "metadata": {},
   "outputs": [],
   "source": [
    "# Data preprocessing and augmentation\n",
    "train_datagen = ImageDataGenerator(\n",
    "    rescale=1./255, shear_range=0.2, zoom_range=0.2, horizontal_flip=True)\n",
    "test_datagen = ImageDataGenerator(rescale=1./255)"
   ]
  },
  {
   "cell_type": "code",
   "execution_count": 6,
   "metadata": {},
   "outputs": [
    {
     "name": "stdout",
     "output_type": "stream",
     "text": [
      "Found 2934 images belonging to 5 classes.\n",
      "Found 736 images belonging to 5 classes.\n"
     ]
    }
   ],
   "source": [
    "# Load and preprocess the training and validation datasets\n",
    "train_set = train_datagen.flow_from_directory(\n",
    "    'C:\\\\Users\\\\SELCIA\\\\Desktop\\\\AAI\\\\flower_photos_split1\\\\train', target_size=(224, 224), batch_size=32, class_mode='categorical')\n",
    "test_set = test_datagen.flow_from_directory(\n",
    "    'C:\\\\Users\\\\SELCIA\\\\Desktop\\\\AAI\\\\flower_photos_split1\\\\test', target_size=(224, 224), batch_size=32, class_mode='categorical')"
   ]
  },
  {
   "cell_type": "code",
   "execution_count": 8,
   "metadata": {},
   "outputs": [
    {
     "name": "stdout",
     "output_type": "stream",
     "text": [
      "92/92 [==============================] - 342s 4s/step - loss: 1.2594 - accuracy: 0.4557 - val_loss: 1.0893 - val_accuracy: 0.5856\n",
      "23/23 [==============================] - 19s 803ms/step - loss: 1.0893 - accuracy: 0.5856\n",
      "Test Accuracy: 0.585597813129425\n"
     ]
    }
   ],
   "source": [
    "# Train the model\n",
    "model.fit(train_set, epochs=1, validation_data=test_set)\n",
    "\n",
    "# Evaluate the model\n",
    "accuracy = model.evaluate(test_set)[1]\n",
    "print(f\"Test Accuracy: {accuracy}\")"
   ]
  },
  {
   "cell_type": "code",
   "execution_count": 12,
   "metadata": {},
   "outputs": [
    {
     "name": "stdout",
     "output_type": "stream",
     "text": [
      "1/1 [==============================] - 0s 92ms/step\n",
      "Predicted Class: Sunflowers\n",
      "Probabilities:\n",
      "Daisy: 4.91%\n",
      "Dandelion: 32.42%\n",
      "Roses: 0.47%\n",
      "Sunflowers: 57.32%\n",
      "Tulips: 4.88%\n"
     ]
    }
   ],
   "source": [
    "import numpy as np\n",
    "from tensorflow.keras.preprocessing import image\n",
    "\n",
    "# Load a test image for prediction Replace with the path to your test image\n",
    "# test_image_path = 'C:\\\\Users\\\\SELCIA\\\\Desktop\\\\AAI\\\\flower_photos_split\\\\test\\\\roses\\\\24781114_bc83aa811e_n.jpg'\n",
    "# test_image_path = \"C:\\\\Users\\\\SELCIA\\\\Desktop\\\\AAI\\\\flower_photos_split\\\\test\\\\sunflowers\\\\40410686_272bc66faf_m.jpg\"\n",
    "test_image_path = \"C:\\\\Users\\\\SELCIA\\\\Desktop\\\\AAI\\\\flower_photos_split1\\\\test\\\\sunflowers\\\\29972905_4cc537ff4b_n.jpg\"\n",
    "test_image = image.load_img(test_image_path, target_size=(224, 224))\n",
    "\n",
    "# Convert the image to a numpy array and preprocess it\n",
    "test_image_array = image.img_to_array(test_image)\n",
    "test_image_array = np.expand_dims(test_image_array, axis=0)\n",
    "test_image_array /= 255.  # Rescale to values between 0 and 1\n",
    "\n",
    "# Make predictions\n",
    "predictions = model.predict(test_image_array)\n",
    "\n",
    "# Get the class index with the highest probability\n",
    "predicted_class_index = np.argmax(predictions)\n",
    "\n",
    "# Map the class index to the class label\n",
    "class_labels = {0: 'Daisy', 1: 'Dandelion', 2: 'Roses',\n",
    "                3: 'Sunflowers', 4: 'Tulips'}  # Adjust as per your class labels\n",
    "predicted_class_label = class_labels[predicted_class_index]\n",
    "\n",
    "# Print the predicted class and probabilities\n",
    "print(f\"Predicted Class: {predicted_class_label}\")\n",
    "print(\"Probabilities:\")\n",
    "for i, prob in enumerate(predictions[0]):\n",
    "    print(f\"{class_labels[i]}: {prob * 100:.2f}%\")"
   ]
  }
 ],
 "metadata": {
  "kernelspec": {
   "display_name": "Python 3",
   "language": "python",
   "name": "python3"
  },
  "language_info": {
   "codemirror_mode": {
    "name": "ipython",
    "version": 3
   },
   "file_extension": ".py",
   "mimetype": "text/x-python",
   "name": "python",
   "nbconvert_exporter": "python",
   "pygments_lexer": "ipython3",
   "version": "3.10.4"
  }
 },
 "nbformat": 4,
 "nbformat_minor": 2
}
